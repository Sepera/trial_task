{
 "cells": [
  {
   "cell_type": "code",
   "execution_count": 1,
   "metadata": {
    "collapsed": true
   },
   "outputs": [],
   "source": [
    "import pandas as pd #подключение библиотек\n",
    "import matplotlib.pyplot as plt \n",
    "import numpy as np "
   ]
  },
  {
   "cell_type": "code",
   "execution_count": 2,
   "metadata": {
    "collapsed": true
   },
   "outputs": [],
   "source": [
    "# загрузка данных из открытого источника\n",
    "# данные представляют собой набор значений параметров цветков ириса 3 сортов\n",
    "# Iris-setosa, Iris-versicolor, Iris-virginica\n",
    "# данные упорядочены по сортам: 0-49 Iris-setosa, 50-99 Iris-versicolor, 99-149 Iris-virginica \n",
    "df = pd.read_csv('https://archive.ics.uci.edu/ml/machine-learning-databases/iris/iris.data', header=None)"
   ]
  },
  {
   "cell_type": "code",
   "execution_count": 3,
   "metadata": {
    "collapsed": true
   },
   "outputs": [],
   "source": [
    "# данные Iris-setosa и Iris-versicolor\n",
    "y = df.iloc[0:100, 4].values \n",
    "y = np.where(y == 'Iris-setosa', -1, 1)\n",
    "X = df.iloc[0:100, [0, 2]].values"
   ]
  },
  {
   "cell_type": "code",
   "execution_count": 4,
   "metadata": {
    "collapsed": false,
    "scrolled": true
   },
   "outputs": [
    {
     "data": {
      "image/png": "[encoded data removed]",
      "text/plain": [
       "<matplotlib.figure.Figure at 0xc1731e82e8>"
      ]
     },
     "metadata": {},
     "output_type": "display_data"
    }
   ],
   "source": [
    "plt.scatter(X[:50, 0], X[:50, 1], color='blue', marker='o', label='setosa')\n",
    "plt.scatter(X[50:100, 0], X[50:100, 1], color='red', marker='x', label='versicolor')\n",
    "plt.xlabel('petal length')\n",
    "plt.ylabel('sepal length')\n",
    "plt.legend(loc='lower right')\n",
    "plt.show()"
   ]
  },
  {
   "cell_type": "markdown",
   "metadata": {},
   "source": [
    "Данные линейно разделимые, можно воспользоваться линейным классификатором.\n",
    "Прежде чем проводить классификацию, стандартизируем их"
   ]
  },
  {
   "cell_type": "code",
   "execution_count": 5,
   "metadata": {
    "collapsed": true
   },
   "outputs": [],
   "source": [
    "X_std = np.copy(X)\n",
    "X_std[:,0] = (X[:,0] - X[:,0].mean()) / X[:,0].std()\n",
    "X_std[:,1] = (X[:,1] - X[:,1].mean()) / X[:,1].std()"
   ]
  },
  {
   "cell_type": "code",
   "execution_count": 6,
   "metadata": {
    "collapsed": false
   },
   "outputs": [],
   "source": [
    "# построение классификатора (метод градиентного спуска)\n",
    "class lineGD(object):\n",
    "    \"\"\"\n",
    "    Параметры:\n",
    "    v : float - скорость обучения от 0.0 до 1\n",
    "    n_loops : int - количество  проходов\n",
    "    w - вектор весов\n",
    "    errors - список количества неправильно классифицированных на каждом проходе \n",
    "    \"\"\"\n",
    "    def __init__(self, v=0.01, n_loops=50):\n",
    "        self.v = v\n",
    "        self.n_loops = n_loops\n",
    "    def fit(self, X, y):\n",
    "        \"\"\"\n",
    "        Построение массива весов\n",
    "        -----\n",
    "        Параметры:\n",
    "        X - обучающая выборка, массив, размер которого = [n_samples, n_features]\n",
    "        n_samples - количество объектов в обучающей выборке\n",
    "        n_features - размерность пространства признаков\n",
    "        y - одномерный массив, представляющий целевые значения\n",
    "        w[0] - свободный параметр \n",
    "        \"\"\"\n",
    "        self.w = np.zeros(1 + X.shape[1])\n",
    "        self.cost = []\n",
    "        for i in range(self.n_loops):\n",
    "            output = self.net_input_activation(X)\n",
    "            errors = (y - output)\n",
    "            self.w[1:] += self.v * X.T.dot(errors)\n",
    "            self.w[0] += self.v * errors.sum()\n",
    "            cost = (errors**2).sum() / 2.0\n",
    "            self.cost.append(cost)\n",
    "        return self\n",
    "    def net_input_activation(self, X):\n",
    "        \"\"\"Вычисление входного сигнала, в нашем случае он является линейной функцией активации\"\"\"\n",
    "        return np.dot(X, self.w[1:]) + self.w[0]\n",
    "    def predict(self, X):\n",
    "        \"\"\"Установление принадлежности к классам\"\"\"\n",
    "        return np.where(self.net_input_activation(X) >= 0.0, 1, -1)"
   ]
  },
  {
   "cell_type": "code",
   "execution_count": 7,
   "metadata": {
    "collapsed": true
   },
   "outputs": [],
   "source": [
    "from matplotlib.colors import ListedColormap\n",
    "\n",
    "def plot_regions(X, y, classifier, resolution=0.02):\n",
    "    markers = ('o', 'x')\n",
    "    cmap = ListedColormap(('blue', 'red'))\n",
    "    x1_min, x1_max = X[:, 0].min() - 1, X[:, 0].max() + 1\n",
    "    x2_min, x2_max = X[:, 1].min() - 1, X[:, 1].max() + 1\n",
    "    # построение границы\n",
    "    xx1, xx2 = np.meshgrid(np.arange(x1_min, x1_max, resolution),\n",
    "    np.arange(x2_min, x2_max, resolution))\n",
    "    Z = classifier.predict(np.array([xx1.ravel(), xx2.ravel()]).T)\n",
    "    Z = Z.reshape(xx1.shape)\n",
    "    plt.contourf(xx1, xx2, Z, alpha=0.2, cmap=cmap)\n",
    "    plt.xlim(xx1.min(), xx1.max())\n",
    "    plt.ylim(xx2.min(), xx2.max())\n",
    "    # наносим объекты на график\n",
    "    for idx, cl in enumerate(np.unique(y)):\n",
    "        plt.scatter(x=X[y == cl, 0], y=X[y == cl, 1], alpha=0.8, c=cmap(idx), marker=markers[idx], label=cl)"
   ]
  },
  {
   "cell_type": "code",
   "execution_count": 8,
   "metadata": {
    "collapsed": false
   },
   "outputs": [
    {
     "data": {
      "image/png": "[encoded data removed]",
      "text/plain": [
       "<matplotlib.figure.Figure at 0xc1731c3e10>"
      ]
     },
     "metadata": {},
     "output_type": "display_data"
    },
    {
     "data": {
      "image/png": "[encoded data removed]",
      "text/plain": [
       "<matplotlib.figure.Figure at 0xc1762aeb70>"
      ]
     },
     "metadata": {},
     "output_type": "display_data"
    }
   ],
   "source": [
    "gd = lineGD(n_loops=15, v=0.01)\n",
    "gd.fit(X_std, y)\n",
    "plot_regions(X_std, y, classifier=gd)\n",
    "plt.title('Стандартизированные значения')\n",
    "plt.xlabel(u'Длина чашелистника')\n",
    "plt.ylabel(u'Длина лепестка ')\n",
    "plt.legend(loc='lower right')\n",
    "plt.show()\n",
    "plt.plot(range(1, len(gd.cost) + 1), gd.cost, marker='o')\n",
    "plt.xlabel('Итерация')\n",
    "plt.ylabel('Функция потерь')\n",
    "plt.show()"
   ]
  },
  {
   "cell_type": "code",
   "execution_count": null,
   "metadata": {
    "collapsed": true
   },
   "outputs": [],
   "source": []
  }
 ],
 "metadata": {
  "celltoolbar": "Raw Cell Format",
  "kernelspec": {
   "display_name": "Python 3",
   "language": "python",
   "name": "python3"
  },
  "language_info": {
   "codemirror_mode": {
    "name": "ipython",
    "version": 3
   },
   "file_extension": ".py",
   "mimetype": "text/x-python",
   "name": "python",
   "nbconvert_exporter": "python",
   "pygments_lexer": "ipython3",
   "version": "3.5.2"
  }
 },
 "nbformat": 4,
 "nbformat_minor": 1
}
